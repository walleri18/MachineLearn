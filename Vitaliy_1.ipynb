{
 "cells": [
  {
   "cell_type": "markdown",
   "metadata": {},
   "source": [
    "# Лабораторная работа №1. Предварительная обработка данных\n",
    "\n",
    "### Работу выполнил студен: Туров Виталий Александрович\n",
    "### Работу проверил: Гай В. Е.\n",
    "### Группа: 16-В-1\n",
    "### Вариант: №6\n",
    "\n",
    "#### * Текст задания: *\n",
    "<center>** Индекс счастья **</center>\n",
    "1. Визуализируйте корреляции между признаками, находящимися в наборе данных (heatmap). Сделайте выводы.\n",
    "\n",
    "2. Постройте график счастья по регионам, страны на графике должны представляться отдельными точками.\n",
    "\n",
    "3. Оцените количество счастья по годам по регионам.\n",
    "\n",
    "4. Определите наиболее сильно изменяющиеся параметры по разным странам в разные годы.\n",
    "\n",
    "5. Определите страны, появляющиеся и исчезающие в рейтинге стран.\n",
    "\n",
    "6. Удалите строки с пропущенными значениями. Выведите размер набора данных до и после удаления.\n",
    "\n",
    "7. Вычислите корреляцию Пирсона и Спирмена между признаками * Trust.Government.Corruption * и * Family *. Сравните полученные величины корреляции. Постройте гистограммы для указаных признаков. Оцените значение ** p-value ** .\n",
    "\n",
    "8. Добавьте в набор данных признак, являющийся суммой двух других признаков."
   ]
  },
  {
   "cell_type": "code",
   "execution_count": 1,
   "metadata": {},
   "outputs": [],
   "source": [
    "# Подключаем пакеты Pandas\n",
    "import pandas as pd\n",
    "import numpy as np\n",
    "from  scipy.stats import pearsonr\n",
    "from scipy.stats import spearmanr\n",
    "import matplotlib.pyplot as plt\n",
    "import seaborn as sns\n",
    "import re\n",
    "%matplotlib inline"
   ]
  },
  {
   "cell_type": "code",
   "execution_count": 2,
   "metadata": {},
   "outputs": [],
   "source": [
    "# Загружаем необходимые данные за 2015 год, 2016 год, 2017 год\n",
    "df2015 = pd.read_csv(\"2015.csv\")\n",
    "df2016 = pd.read_csv(\"2016.csv\")\n",
    "df2017 = pd.read_csv(\"2017.csv\")"
   ]
  },
  {
   "cell_type": "code",
   "execution_count": 3,
   "metadata": {},
   "outputs": [
    {
     "data": {
      "text/html": [
       "<div>\n",
       "<style scoped>\n",
       "    .dataframe tbody tr th:only-of-type {\n",
       "        vertical-align: middle;\n",
       "    }\n",
       "\n",
       "    .dataframe tbody tr th {\n",
       "        vertical-align: top;\n",
       "    }\n",
       "\n",
       "    .dataframe thead th {\n",
       "        text-align: right;\n",
       "    }\n",
       "</style>\n",
       "<table border=\"1\" class=\"dataframe\">\n",
       "  <thead>\n",
       "    <tr style=\"text-align: right;\">\n",
       "      <th></th>\n",
       "      <th>Country</th>\n",
       "      <th>Region</th>\n",
       "      <th>Happiness Rank</th>\n",
       "      <th>Happiness Score</th>\n",
       "      <th>Standard Error</th>\n",
       "      <th>Economy (GDP per Capita)</th>\n",
       "      <th>Family</th>\n",
       "      <th>Health (Life Expectancy)</th>\n",
       "      <th>Freedom</th>\n",
       "      <th>Trust (Government Corruption)</th>\n",
       "      <th>Generosity</th>\n",
       "      <th>Dystopia Residual</th>\n",
       "    </tr>\n",
       "  </thead>\n",
       "  <tbody>\n",
       "    <tr>\n",
       "      <th>0</th>\n",
       "      <td>Switzerland</td>\n",
       "      <td>Western Europe</td>\n",
       "      <td>1</td>\n",
       "      <td>7.587</td>\n",
       "      <td>0.03411</td>\n",
       "      <td>1.39651</td>\n",
       "      <td>1.34951</td>\n",
       "      <td>0.94143</td>\n",
       "      <td>0.66557</td>\n",
       "      <td>0.41978</td>\n",
       "      <td>0.29678</td>\n",
       "      <td>2.51738</td>\n",
       "    </tr>\n",
       "    <tr>\n",
       "      <th>1</th>\n",
       "      <td>Iceland</td>\n",
       "      <td>Western Europe</td>\n",
       "      <td>2</td>\n",
       "      <td>7.561</td>\n",
       "      <td>0.04884</td>\n",
       "      <td>1.30232</td>\n",
       "      <td>1.40223</td>\n",
       "      <td>0.94784</td>\n",
       "      <td>0.62877</td>\n",
       "      <td>0.14145</td>\n",
       "      <td>0.43630</td>\n",
       "      <td>2.70201</td>\n",
       "    </tr>\n",
       "    <tr>\n",
       "      <th>2</th>\n",
       "      <td>Denmark</td>\n",
       "      <td>Western Europe</td>\n",
       "      <td>3</td>\n",
       "      <td>7.527</td>\n",
       "      <td>0.03328</td>\n",
       "      <td>1.32548</td>\n",
       "      <td>1.36058</td>\n",
       "      <td>0.87464</td>\n",
       "      <td>0.64938</td>\n",
       "      <td>0.48357</td>\n",
       "      <td>0.34139</td>\n",
       "      <td>2.49204</td>\n",
       "    </tr>\n",
       "  </tbody>\n",
       "</table>\n",
       "</div>"
      ],
      "text/plain": [
       "       Country          Region  Happiness Rank  Happiness Score  \\\n",
       "0  Switzerland  Western Europe               1            7.587   \n",
       "1      Iceland  Western Europe               2            7.561   \n",
       "2      Denmark  Western Europe               3            7.527   \n",
       "\n",
       "   Standard Error  Economy (GDP per Capita)   Family  \\\n",
       "0         0.03411                   1.39651  1.34951   \n",
       "1         0.04884                   1.30232  1.40223   \n",
       "2         0.03328                   1.32548  1.36058   \n",
       "\n",
       "   Health (Life Expectancy)  Freedom  Trust (Government Corruption)  \\\n",
       "0                   0.94143  0.66557                        0.41978   \n",
       "1                   0.94784  0.62877                        0.14145   \n",
       "2                   0.87464  0.64938                        0.48357   \n",
       "\n",
       "   Generosity  Dystopia Residual  \n",
       "0     0.29678            2.51738  \n",
       "1     0.43630            2.70201  \n",
       "2     0.34139            2.49204  "
      ]
     },
     "execution_count": 3,
     "metadata": {},
     "output_type": "execute_result"
    }
   ],
   "source": [
    "# Смотрим данные за 2015 год\n",
    "df2015.head(3)"
   ]
  },
  {
   "cell_type": "code",
   "execution_count": 4,
   "metadata": {},
   "outputs": [
    {
     "data": {
      "text/html": [
       "<div>\n",
       "<style scoped>\n",
       "    .dataframe tbody tr th:only-of-type {\n",
       "        vertical-align: middle;\n",
       "    }\n",
       "\n",
       "    .dataframe tbody tr th {\n",
       "        vertical-align: top;\n",
       "    }\n",
       "\n",
       "    .dataframe thead th {\n",
       "        text-align: right;\n",
       "    }\n",
       "</style>\n",
       "<table border=\"1\" class=\"dataframe\">\n",
       "  <thead>\n",
       "    <tr style=\"text-align: right;\">\n",
       "      <th></th>\n",
       "      <th>Country</th>\n",
       "      <th>Region</th>\n",
       "      <th>Happiness Rank</th>\n",
       "      <th>Happiness Score</th>\n",
       "      <th>Lower Confidence Interval</th>\n",
       "      <th>Upper Confidence Interval</th>\n",
       "      <th>Economy (GDP per Capita)</th>\n",
       "      <th>Family</th>\n",
       "      <th>Health (Life Expectancy)</th>\n",
       "      <th>Freedom</th>\n",
       "      <th>Trust (Government Corruption)</th>\n",
       "      <th>Generosity</th>\n",
       "      <th>Dystopia Residual</th>\n",
       "    </tr>\n",
       "  </thead>\n",
       "  <tbody>\n",
       "    <tr>\n",
       "      <th>0</th>\n",
       "      <td>Denmark</td>\n",
       "      <td>Western Europe</td>\n",
       "      <td>1</td>\n",
       "      <td>7.526</td>\n",
       "      <td>7.460</td>\n",
       "      <td>7.592</td>\n",
       "      <td>1.44178</td>\n",
       "      <td>1.16374</td>\n",
       "      <td>0.79504</td>\n",
       "      <td>0.57941</td>\n",
       "      <td>0.44453</td>\n",
       "      <td>0.36171</td>\n",
       "      <td>2.73939</td>\n",
       "    </tr>\n",
       "    <tr>\n",
       "      <th>1</th>\n",
       "      <td>Switzerland</td>\n",
       "      <td>Western Europe</td>\n",
       "      <td>2</td>\n",
       "      <td>7.509</td>\n",
       "      <td>7.428</td>\n",
       "      <td>7.590</td>\n",
       "      <td>1.52733</td>\n",
       "      <td>1.14524</td>\n",
       "      <td>0.86303</td>\n",
       "      <td>0.58557</td>\n",
       "      <td>0.41203</td>\n",
       "      <td>0.28083</td>\n",
       "      <td>2.69463</td>\n",
       "    </tr>\n",
       "    <tr>\n",
       "      <th>2</th>\n",
       "      <td>Iceland</td>\n",
       "      <td>Western Europe</td>\n",
       "      <td>3</td>\n",
       "      <td>7.501</td>\n",
       "      <td>7.333</td>\n",
       "      <td>7.669</td>\n",
       "      <td>1.42666</td>\n",
       "      <td>1.18326</td>\n",
       "      <td>0.86733</td>\n",
       "      <td>0.56624</td>\n",
       "      <td>0.14975</td>\n",
       "      <td>0.47678</td>\n",
       "      <td>2.83137</td>\n",
       "    </tr>\n",
       "  </tbody>\n",
       "</table>\n",
       "</div>"
      ],
      "text/plain": [
       "       Country          Region  Happiness Rank  Happiness Score  \\\n",
       "0      Denmark  Western Europe               1            7.526   \n",
       "1  Switzerland  Western Europe               2            7.509   \n",
       "2      Iceland  Western Europe               3            7.501   \n",
       "\n",
       "   Lower Confidence Interval  Upper Confidence Interval  \\\n",
       "0                      7.460                      7.592   \n",
       "1                      7.428                      7.590   \n",
       "2                      7.333                      7.669   \n",
       "\n",
       "   Economy (GDP per Capita)   Family  Health (Life Expectancy)  Freedom  \\\n",
       "0                   1.44178  1.16374                   0.79504  0.57941   \n",
       "1                   1.52733  1.14524                   0.86303  0.58557   \n",
       "2                   1.42666  1.18326                   0.86733  0.56624   \n",
       "\n",
       "   Trust (Government Corruption)  Generosity  Dystopia Residual  \n",
       "0                        0.44453     0.36171            2.73939  \n",
       "1                        0.41203     0.28083            2.69463  \n",
       "2                        0.14975     0.47678            2.83137  "
      ]
     },
     "execution_count": 4,
     "metadata": {},
     "output_type": "execute_result"
    }
   ],
   "source": [
    "# Смотрим данные за 2016 год\n",
    "df2016.head(3)"
   ]
  },
  {
   "cell_type": "code",
   "execution_count": 5,
   "metadata": {},
   "outputs": [
    {
     "data": {
      "text/html": [
       "<div>\n",
       "<style scoped>\n",
       "    .dataframe tbody tr th:only-of-type {\n",
       "        vertical-align: middle;\n",
       "    }\n",
       "\n",
       "    .dataframe tbody tr th {\n",
       "        vertical-align: top;\n",
       "    }\n",
       "\n",
       "    .dataframe thead th {\n",
       "        text-align: right;\n",
       "    }\n",
       "</style>\n",
       "<table border=\"1\" class=\"dataframe\">\n",
       "  <thead>\n",
       "    <tr style=\"text-align: right;\">\n",
       "      <th></th>\n",
       "      <th>Country</th>\n",
       "      <th>Happiness.Rank</th>\n",
       "      <th>Happiness.Score</th>\n",
       "      <th>Whisker.high</th>\n",
       "      <th>Whisker.low</th>\n",
       "      <th>Economy..GDP.per.Capita.</th>\n",
       "      <th>Family</th>\n",
       "      <th>Health..Life.Expectancy.</th>\n",
       "      <th>Freedom</th>\n",
       "      <th>Generosity</th>\n",
       "      <th>Trust..Government.Corruption.</th>\n",
       "      <th>Dystopia.Residual</th>\n",
       "    </tr>\n",
       "  </thead>\n",
       "  <tbody>\n",
       "    <tr>\n",
       "      <th>0</th>\n",
       "      <td>Norway</td>\n",
       "      <td>1</td>\n",
       "      <td>7.537</td>\n",
       "      <td>7.594445</td>\n",
       "      <td>7.479556</td>\n",
       "      <td>1.616463</td>\n",
       "      <td>1.533524</td>\n",
       "      <td>0.796667</td>\n",
       "      <td>0.635423</td>\n",
       "      <td>0.362012</td>\n",
       "      <td>0.315964</td>\n",
       "      <td>2.277027</td>\n",
       "    </tr>\n",
       "    <tr>\n",
       "      <th>1</th>\n",
       "      <td>Denmark</td>\n",
       "      <td>2</td>\n",
       "      <td>7.522</td>\n",
       "      <td>7.581728</td>\n",
       "      <td>7.462272</td>\n",
       "      <td>1.482383</td>\n",
       "      <td>1.551122</td>\n",
       "      <td>0.792566</td>\n",
       "      <td>0.626007</td>\n",
       "      <td>0.355280</td>\n",
       "      <td>0.400770</td>\n",
       "      <td>2.313707</td>\n",
       "    </tr>\n",
       "    <tr>\n",
       "      <th>2</th>\n",
       "      <td>Iceland</td>\n",
       "      <td>3</td>\n",
       "      <td>7.504</td>\n",
       "      <td>7.622030</td>\n",
       "      <td>7.385970</td>\n",
       "      <td>1.480633</td>\n",
       "      <td>1.610574</td>\n",
       "      <td>0.833552</td>\n",
       "      <td>0.627163</td>\n",
       "      <td>0.475540</td>\n",
       "      <td>0.153527</td>\n",
       "      <td>2.322715</td>\n",
       "    </tr>\n",
       "  </tbody>\n",
       "</table>\n",
       "</div>"
      ],
      "text/plain": [
       "   Country  Happiness.Rank  Happiness.Score  Whisker.high  Whisker.low  \\\n",
       "0   Norway               1            7.537      7.594445     7.479556   \n",
       "1  Denmark               2            7.522      7.581728     7.462272   \n",
       "2  Iceland               3            7.504      7.622030     7.385970   \n",
       "\n",
       "   Economy..GDP.per.Capita.    Family  Health..Life.Expectancy.   Freedom  \\\n",
       "0                  1.616463  1.533524                  0.796667  0.635423   \n",
       "1                  1.482383  1.551122                  0.792566  0.626007   \n",
       "2                  1.480633  1.610574                  0.833552  0.627163   \n",
       "\n",
       "   Generosity  Trust..Government.Corruption.  Dystopia.Residual  \n",
       "0    0.362012                       0.315964           2.277027  \n",
       "1    0.355280                       0.400770           2.313707  \n",
       "2    0.475540                       0.153527           2.322715  "
      ]
     },
     "execution_count": 5,
     "metadata": {},
     "output_type": "execute_result"
    }
   ],
   "source": [
    "# Смотрим данные за 2017 год\n",
    "df2017.head(3)"
   ]
  },
  {
   "cell_type": "code",
   "execution_count": 6,
   "metadata": {},
   "outputs": [],
   "source": [
    "#Список признаков составляющие индекс счастья\n",
    "listIndication = [\"Economy (GDP per Capita)\", \"Family\", \"Health (Life Expectancy)\", \"Freedom\", \"Trust (Government Corruption)\", \"Generosity\", \"Dystopia Residual\"]"
   ]
  },
  {
   "cell_type": "code",
   "execution_count": 7,
   "metadata": {
    "scrolled": true
   },
   "outputs": [
    {
     "name": "stdout",
     "output_type": "stream",
     "text": [
      "Index(['Country', 'Region', 'Happiness Rank', 'Happiness Score',\n",
      "       'Standard Error', 'Economy (GDP per Capita)', 'Family',\n",
      "       'Health (Life Expectancy)', 'Freedom', 'Trust (Government Corruption)',\n",
      "       'Generosity', 'Dystopia Residual'],\n",
      "      dtype='object') Index(['Country', 'Region', 'Happiness Rank', 'Happiness Score',\n",
      "       'Lower Confidence Interval', 'Upper Confidence Interval',\n",
      "       'Economy (GDP per Capita)', 'Family', 'Health (Life Expectancy)',\n",
      "       'Freedom', 'Trust (Government Corruption)', 'Generosity',\n",
      "       'Dystopia Residual'],\n",
      "      dtype='object') Index(['Country', 'Happiness.Rank', 'Happiness.Score', 'Whisker.high',\n",
      "       'Whisker.low', 'Economy..GDP.per.Capita.', 'Family',\n",
      "       'Health..Life.Expectancy.', 'Freedom', 'Generosity',\n",
      "       'Trust..Government.Corruption.', 'Dystopia.Residual'],\n",
      "      dtype='object')\n"
     ]
    }
   ],
   "source": [
    "print(df2015.columns, df2016.columns, df2017.columns)"
   ]
  },
  {
   "cell_type": "markdown",
   "metadata": {},
   "source": [
    "> В третьей таблице имена столбцов отличаются от имен первых двух. Вместо пробелов точки. Поэтому, перед объединение таблиц нужно изменить названия столбцов 3 таблицы."
   ]
  },
  {
   "cell_type": "code",
   "execution_count": 8,
   "metadata": {},
   "outputs": [],
   "source": [
    "#  Изменение названия столбцов\n",
    "df2017.rename(columns = {\"Happiness.Rank\" : \"Happiness Rank\", \"Happiness.Score\" : \"Happiness Score\", \"Whisker.high\" : \"Whisker high\", \"Whisker.low\" : \"Whisker low\", \"Economy..GDP.per.Capita.\" : \"Economy (GDP per Capita)\", \"Trust..Government.Corruption.\" : \"Trust (Government Corruption)\", \"Dystopia.Residual\" : \"Dystopia Residual\", \"Health..Life.Expectancy.\" : \"Health (Life Expectancy)\"}, inplace=True)"
   ]
  },
  {
   "cell_type": "code",
   "execution_count": 9,
   "metadata": {},
   "outputs": [
    {
     "name": "stderr",
     "output_type": "stream",
     "text": [
      "/Users/walleri1/anaconda3/lib/python3.6/site-packages/ipykernel_launcher.py:2: FutureWarning: Sorting because non-concatenation axis is not aligned. A future version\n",
      "of pandas will change to not sort by default.\n",
      "\n",
      "To accept the future behavior, pass 'sort=True'.\n",
      "\n",
      "To retain the current behavior and silence the warning, pass sort=False\n",
      "\n",
      "  \n"
     ]
    },
    {
     "data": {
      "text/plain": [
       "(470, 16)"
      ]
     },
     "execution_count": 9,
     "metadata": {},
     "output_type": "execute_result"
    }
   ],
   "source": [
    "#  Объединение трех таблиц\n",
    "dfAll=pd.concat([pd.concat([df2015, df2016]), df2017])\n",
    "dfAll.shape"
   ]
  },
  {
   "cell_type": "markdown",
   "metadata": {},
   "source": [
    "###  *Визуализируйте корреляции между признаками, находящимися в наборе данных. Сделайте выводы*"
   ]
  },
  {
   "cell_type": "code",
   "execution_count": 10,
   "metadata": {},
   "outputs": [
    {
     "data": {
      "text/html": [
       "<div>\n",
       "<style scoped>\n",
       "    .dataframe tbody tr th:only-of-type {\n",
       "        vertical-align: middle;\n",
       "    }\n",
       "\n",
       "    .dataframe tbody tr th {\n",
       "        vertical-align: top;\n",
       "    }\n",
       "\n",
       "    .dataframe thead th {\n",
       "        text-align: right;\n",
       "    }\n",
       "</style>\n",
       "<table border=\"1\" class=\"dataframe\">\n",
       "  <thead>\n",
       "    <tr style=\"text-align: right;\">\n",
       "      <th></th>\n",
       "      <th>Dystopia Residual</th>\n",
       "      <th>Economy (GDP per Capita)</th>\n",
       "      <th>Family</th>\n",
       "      <th>Freedom</th>\n",
       "      <th>Generosity</th>\n",
       "      <th>Happiness Rank</th>\n",
       "      <th>Happiness Score</th>\n",
       "      <th>Health (Life Expectancy)</th>\n",
       "      <th>Lower Confidence Interval</th>\n",
       "      <th>Standard Error</th>\n",
       "      <th>Trust (Government Corruption)</th>\n",
       "      <th>Upper Confidence Interval</th>\n",
       "      <th>Whisker high</th>\n",
       "      <th>Whisker low</th>\n",
       "    </tr>\n",
       "  </thead>\n",
       "  <tbody>\n",
       "    <tr>\n",
       "      <th>Dystopia Residual</th>\n",
       "      <td>1.000000</td>\n",
       "      <td>0.030087</td>\n",
       "      <td>-0.081537</td>\n",
       "      <td>0.038422</td>\n",
       "      <td>-0.114468</td>\n",
       "      <td>-0.482706</td>\n",
       "      <td>0.489747</td>\n",
       "      <td>0.057674</td>\n",
       "      <td>0.538793</td>\n",
       "      <td>0.083981</td>\n",
       "      <td>0.000001</td>\n",
       "      <td>0.548164</td>\n",
       "      <td>0.478824</td>\n",
       "      <td>0.471505</td>\n",
       "    </tr>\n",
       "    <tr>\n",
       "      <th>Economy (GDP per Capita)</th>\n",
       "      <td>0.030087</td>\n",
       "      <td>1.000000</td>\n",
       "      <td>0.585449</td>\n",
       "      <td>0.344962</td>\n",
       "      <td>-0.014173</td>\n",
       "      <td>-0.790551</td>\n",
       "      <td>0.785450</td>\n",
       "      <td>0.792224</td>\n",
       "      <td>0.790673</td>\n",
       "      <td>-0.217651</td>\n",
       "      <td>0.301935</td>\n",
       "      <td>0.789140</td>\n",
       "      <td>0.811868</td>\n",
       "      <td>0.812267</td>\n",
       "    </tr>\n",
       "    <tr>\n",
       "      <th>Family</th>\n",
       "      <td>-0.081537</td>\n",
       "      <td>0.585449</td>\n",
       "      <td>1.000000</td>\n",
       "      <td>0.425377</td>\n",
       "      <td>0.071775</td>\n",
       "      <td>-0.637627</td>\n",
       "      <td>0.636532</td>\n",
       "      <td>0.486383</td>\n",
       "      <td>0.741523</td>\n",
       "      <td>-0.120728</td>\n",
       "      <td>0.158605</td>\n",
       "      <td>0.736184</td>\n",
       "      <td>0.750934</td>\n",
       "      <td>0.753767</td>\n",
       "    </tr>\n",
       "    <tr>\n",
       "      <th>Freedom</th>\n",
       "      <td>0.038422</td>\n",
       "      <td>0.344962</td>\n",
       "      <td>0.425377</td>\n",
       "      <td>1.000000</td>\n",
       "      <td>0.343389</td>\n",
       "      <td>-0.547627</td>\n",
       "      <td>0.560353</td>\n",
       "      <td>0.359566</td>\n",
       "      <td>0.566857</td>\n",
       "      <td>-0.129773</td>\n",
       "      <td>0.490405</td>\n",
       "      <td>0.566203</td>\n",
       "      <td>0.569907</td>\n",
       "      <td>0.569808</td>\n",
       "    </tr>\n",
       "    <tr>\n",
       "      <th>Generosity</th>\n",
       "      <td>-0.114468</td>\n",
       "      <td>-0.014173</td>\n",
       "      <td>0.071775</td>\n",
       "      <td>0.343389</td>\n",
       "      <td>1.000000</td>\n",
       "      <td>-0.146162</td>\n",
       "      <td>0.163562</td>\n",
       "      <td>0.077326</td>\n",
       "      <td>0.158025</td>\n",
       "      <td>-0.088439</td>\n",
       "      <td>0.287414</td>\n",
       "      <td>0.155495</td>\n",
       "      <td>0.155462</td>\n",
       "      <td>0.154904</td>\n",
       "    </tr>\n",
       "    <tr>\n",
       "      <th>Happiness Rank</th>\n",
       "      <td>-0.482706</td>\n",
       "      <td>-0.790551</td>\n",
       "      <td>-0.637627</td>\n",
       "      <td>-0.547627</td>\n",
       "      <td>-0.146162</td>\n",
       "      <td>1.000000</td>\n",
       "      <td>-0.993268</td>\n",
       "      <td>-0.750146</td>\n",
       "      <td>-0.994928</td>\n",
       "      <td>0.158516</td>\n",
       "      <td>-0.384371</td>\n",
       "      <td>-0.995525</td>\n",
       "      <td>-0.993058</td>\n",
       "      <td>-0.991533</td>\n",
       "    </tr>\n",
       "    <tr>\n",
       "      <th>Happiness Score</th>\n",
       "      <td>0.489747</td>\n",
       "      <td>0.785450</td>\n",
       "      <td>0.636532</td>\n",
       "      <td>0.560353</td>\n",
       "      <td>0.163562</td>\n",
       "      <td>-0.993268</td>\n",
       "      <td>1.000000</td>\n",
       "      <td>0.748040</td>\n",
       "      <td>0.999485</td>\n",
       "      <td>-0.177254</td>\n",
       "      <td>0.406340</td>\n",
       "      <td>0.999474</td>\n",
       "      <td>0.999497</td>\n",
       "      <td>0.999520</td>\n",
       "    </tr>\n",
       "    <tr>\n",
       "      <th>Health (Life Expectancy)</th>\n",
       "      <td>0.057674</td>\n",
       "      <td>0.792224</td>\n",
       "      <td>0.486383</td>\n",
       "      <td>0.359566</td>\n",
       "      <td>0.077326</td>\n",
       "      <td>-0.750146</td>\n",
       "      <td>0.748040</td>\n",
       "      <td>1.000000</td>\n",
       "      <td>0.769177</td>\n",
       "      <td>-0.310287</td>\n",
       "      <td>0.262932</td>\n",
       "      <td>0.760752</td>\n",
       "      <td>0.776634</td>\n",
       "      <td>0.786385</td>\n",
       "    </tr>\n",
       "    <tr>\n",
       "      <th>Lower Confidence Interval</th>\n",
       "      <td>0.538793</td>\n",
       "      <td>0.790673</td>\n",
       "      <td>0.741523</td>\n",
       "      <td>0.566857</td>\n",
       "      <td>0.158025</td>\n",
       "      <td>-0.994928</td>\n",
       "      <td>0.999485</td>\n",
       "      <td>0.769177</td>\n",
       "      <td>1.000000</td>\n",
       "      <td>NaN</td>\n",
       "      <td>0.404840</td>\n",
       "      <td>0.997919</td>\n",
       "      <td>NaN</td>\n",
       "      <td>NaN</td>\n",
       "    </tr>\n",
       "    <tr>\n",
       "      <th>Standard Error</th>\n",
       "      <td>0.083981</td>\n",
       "      <td>-0.217651</td>\n",
       "      <td>-0.120728</td>\n",
       "      <td>-0.129773</td>\n",
       "      <td>-0.088439</td>\n",
       "      <td>0.158516</td>\n",
       "      <td>-0.177254</td>\n",
       "      <td>-0.310287</td>\n",
       "      <td>NaN</td>\n",
       "      <td>1.000000</td>\n",
       "      <td>-0.178325</td>\n",
       "      <td>NaN</td>\n",
       "      <td>NaN</td>\n",
       "      <td>NaN</td>\n",
       "    </tr>\n",
       "    <tr>\n",
       "      <th>Trust (Government Corruption)</th>\n",
       "      <td>0.000001</td>\n",
       "      <td>0.301935</td>\n",
       "      <td>0.158605</td>\n",
       "      <td>0.490405</td>\n",
       "      <td>0.287414</td>\n",
       "      <td>-0.384371</td>\n",
       "      <td>0.406340</td>\n",
       "      <td>0.262932</td>\n",
       "      <td>0.404840</td>\n",
       "      <td>-0.178325</td>\n",
       "      <td>1.000000</td>\n",
       "      <td>0.398775</td>\n",
       "      <td>0.426459</td>\n",
       "      <td>0.431223</td>\n",
       "    </tr>\n",
       "    <tr>\n",
       "      <th>Upper Confidence Interval</th>\n",
       "      <td>0.548164</td>\n",
       "      <td>0.789140</td>\n",
       "      <td>0.736184</td>\n",
       "      <td>0.566203</td>\n",
       "      <td>0.155495</td>\n",
       "      <td>-0.995525</td>\n",
       "      <td>0.999474</td>\n",
       "      <td>0.760752</td>\n",
       "      <td>0.997919</td>\n",
       "      <td>NaN</td>\n",
       "      <td>0.398775</td>\n",
       "      <td>1.000000</td>\n",
       "      <td>NaN</td>\n",
       "      <td>NaN</td>\n",
       "    </tr>\n",
       "    <tr>\n",
       "      <th>Whisker high</th>\n",
       "      <td>0.478824</td>\n",
       "      <td>0.811868</td>\n",
       "      <td>0.750934</td>\n",
       "      <td>0.569907</td>\n",
       "      <td>0.155462</td>\n",
       "      <td>-0.993058</td>\n",
       "      <td>0.999497</td>\n",
       "      <td>0.776634</td>\n",
       "      <td>NaN</td>\n",
       "      <td>NaN</td>\n",
       "      <td>0.426459</td>\n",
       "      <td>NaN</td>\n",
       "      <td>1.000000</td>\n",
       "      <td>0.998036</td>\n",
       "    </tr>\n",
       "    <tr>\n",
       "      <th>Whisker low</th>\n",
       "      <td>0.471505</td>\n",
       "      <td>0.812267</td>\n",
       "      <td>0.753767</td>\n",
       "      <td>0.569808</td>\n",
       "      <td>0.154904</td>\n",
       "      <td>-0.991533</td>\n",
       "      <td>0.999520</td>\n",
       "      <td>0.786385</td>\n",
       "      <td>NaN</td>\n",
       "      <td>NaN</td>\n",
       "      <td>0.431223</td>\n",
       "      <td>NaN</td>\n",
       "      <td>0.998036</td>\n",
       "      <td>1.000000</td>\n",
       "    </tr>\n",
       "  </tbody>\n",
       "</table>\n",
       "</div>"
      ],
      "text/plain": [
       "                               Dystopia Residual  Economy (GDP per Capita)  \\\n",
       "Dystopia Residual                       1.000000                  0.030087   \n",
       "Economy (GDP per Capita)                0.030087                  1.000000   \n",
       "Family                                 -0.081537                  0.585449   \n",
       "Freedom                                 0.038422                  0.344962   \n",
       "Generosity                             -0.114468                 -0.014173   \n",
       "Happiness Rank                         -0.482706                 -0.790551   \n",
       "Happiness Score                         0.489747                  0.785450   \n",
       "Health (Life Expectancy)                0.057674                  0.792224   \n",
       "Lower Confidence Interval               0.538793                  0.790673   \n",
       "Standard Error                          0.083981                 -0.217651   \n",
       "Trust (Government Corruption)           0.000001                  0.301935   \n",
       "Upper Confidence Interval               0.548164                  0.789140   \n",
       "Whisker high                            0.478824                  0.811868   \n",
       "Whisker low                             0.471505                  0.812267   \n",
       "\n",
       "                                 Family   Freedom  Generosity  Happiness Rank  \\\n",
       "Dystopia Residual             -0.081537  0.038422   -0.114468       -0.482706   \n",
       "Economy (GDP per Capita)       0.585449  0.344962   -0.014173       -0.790551   \n",
       "Family                         1.000000  0.425377    0.071775       -0.637627   \n",
       "Freedom                        0.425377  1.000000    0.343389       -0.547627   \n",
       "Generosity                     0.071775  0.343389    1.000000       -0.146162   \n",
       "Happiness Rank                -0.637627 -0.547627   -0.146162        1.000000   \n",
       "Happiness Score                0.636532  0.560353    0.163562       -0.993268   \n",
       "Health (Life Expectancy)       0.486383  0.359566    0.077326       -0.750146   \n",
       "Lower Confidence Interval      0.741523  0.566857    0.158025       -0.994928   \n",
       "Standard Error                -0.120728 -0.129773   -0.088439        0.158516   \n",
       "Trust (Government Corruption)  0.158605  0.490405    0.287414       -0.384371   \n",
       "Upper Confidence Interval      0.736184  0.566203    0.155495       -0.995525   \n",
       "Whisker high                   0.750934  0.569907    0.155462       -0.993058   \n",
       "Whisker low                    0.753767  0.569808    0.154904       -0.991533   \n",
       "\n",
       "                               Happiness Score  Health (Life Expectancy)  \\\n",
       "Dystopia Residual                     0.489747                  0.057674   \n",
       "Economy (GDP per Capita)              0.785450                  0.792224   \n",
       "Family                                0.636532                  0.486383   \n",
       "Freedom                               0.560353                  0.359566   \n",
       "Generosity                            0.163562                  0.077326   \n",
       "Happiness Rank                       -0.993268                 -0.750146   \n",
       "Happiness Score                       1.000000                  0.748040   \n",
       "Health (Life Expectancy)              0.748040                  1.000000   \n",
       "Lower Confidence Interval             0.999485                  0.769177   \n",
       "Standard Error                       -0.177254                 -0.310287   \n",
       "Trust (Government Corruption)         0.406340                  0.262932   \n",
       "Upper Confidence Interval             0.999474                  0.760752   \n",
       "Whisker high                          0.999497                  0.776634   \n",
       "Whisker low                           0.999520                  0.786385   \n",
       "\n",
       "                               Lower Confidence Interval  Standard Error  \\\n",
       "Dystopia Residual                               0.538793        0.083981   \n",
       "Economy (GDP per Capita)                        0.790673       -0.217651   \n",
       "Family                                          0.741523       -0.120728   \n",
       "Freedom                                         0.566857       -0.129773   \n",
       "Generosity                                      0.158025       -0.088439   \n",
       "Happiness Rank                                 -0.994928        0.158516   \n",
       "Happiness Score                                 0.999485       -0.177254   \n",
       "Health (Life Expectancy)                        0.769177       -0.310287   \n",
       "Lower Confidence Interval                       1.000000             NaN   \n",
       "Standard Error                                       NaN        1.000000   \n",
       "Trust (Government Corruption)                   0.404840       -0.178325   \n",
       "Upper Confidence Interval                       0.997919             NaN   \n",
       "Whisker high                                         NaN             NaN   \n",
       "Whisker low                                          NaN             NaN   \n",
       "\n",
       "                               Trust (Government Corruption)  \\\n",
       "Dystopia Residual                                   0.000001   \n",
       "Economy (GDP per Capita)                            0.301935   \n",
       "Family                                              0.158605   \n",
       "Freedom                                             0.490405   \n",
       "Generosity                                          0.287414   \n",
       "Happiness Rank                                     -0.384371   \n",
       "Happiness Score                                     0.406340   \n",
       "Health (Life Expectancy)                            0.262932   \n",
       "Lower Confidence Interval                           0.404840   \n",
       "Standard Error                                     -0.178325   \n",
       "Trust (Government Corruption)                       1.000000   \n",
       "Upper Confidence Interval                           0.398775   \n",
       "Whisker high                                        0.426459   \n",
       "Whisker low                                         0.431223   \n",
       "\n",
       "                               Upper Confidence Interval  Whisker high  \\\n",
       "Dystopia Residual                               0.548164      0.478824   \n",
       "Economy (GDP per Capita)                        0.789140      0.811868   \n",
       "Family                                          0.736184      0.750934   \n",
       "Freedom                                         0.566203      0.569907   \n",
       "Generosity                                      0.155495      0.155462   \n",
       "Happiness Rank                                 -0.995525     -0.993058   \n",
       "Happiness Score                                 0.999474      0.999497   \n",
       "Health (Life Expectancy)                        0.760752      0.776634   \n",
       "Lower Confidence Interval                       0.997919           NaN   \n",
       "Standard Error                                       NaN           NaN   \n",
       "Trust (Government Corruption)                   0.398775      0.426459   \n",
       "Upper Confidence Interval                       1.000000           NaN   \n",
       "Whisker high                                         NaN      1.000000   \n",
       "Whisker low                                          NaN      0.998036   \n",
       "\n",
       "                               Whisker low  \n",
       "Dystopia Residual                 0.471505  \n",
       "Economy (GDP per Capita)          0.812267  \n",
       "Family                            0.753767  \n",
       "Freedom                           0.569808  \n",
       "Generosity                        0.154904  \n",
       "Happiness Rank                   -0.991533  \n",
       "Happiness Score                   0.999520  \n",
       "Health (Life Expectancy)          0.786385  \n",
       "Lower Confidence Interval              NaN  \n",
       "Standard Error                         NaN  \n",
       "Trust (Government Corruption)     0.431223  \n",
       "Upper Confidence Interval              NaN  \n",
       "Whisker high                      0.998036  \n",
       "Whisker low                       1.000000  "
      ]
     },
     "execution_count": 10,
     "metadata": {},
     "output_type": "execute_result"
    },
    {
     "data": {
      "image/png": "[encoded data removed]",
      "text/plain": [
       "<Figure size 432x288 with 2 Axes>"
      ]
     },
     "metadata": {},
     "output_type": "display_data"
    }
   ],
   "source": [
    "dfCorr = dfAll.corr()\n",
    "sns.heatmap(dfCorr)\n",
    "dfCorr"
   ]
  },
  {
   "cell_type": "markdown",
   "metadata": {},
   "source": [
    "> ***Вывод***\n",
    "По отображенной корреляции видно, что признак *\"Happiness Rank\"* имеет высокую степень корреляции с остальными признаками."
   ]
  },
  {
   "cell_type": "markdown",
   "metadata": {},
   "source": [
    "### *Постройте график счастья по регионам, страны на графике должны представляться отдельными точками*"
   ]
  },
  {
   "cell_type": "code",
   "execution_count": 11,
   "metadata": {},
   "outputs": [],
   "source": [
    "#  Группировка стран по регионам\n",
    "dfCountry = dfAll.groupby(\"Region\").head()"
   ]
  },
  {
   "cell_type": "code",
   "execution_count": 12,
   "metadata": {},
   "outputs": [
    {
     "data": {
      "text/plain": [
       "[Text(0,0.5,'Happiness Score'), Text(0.5,0,'Region')]"
      ]
     },
     "execution_count": 12,
     "metadata": {},
     "output_type": "execute_result"
    },
    {
     "data": {
      "image/png": "[encoded data removed]",
      "text/plain": [
       "<Figure size 432x288 with 1 Axes>"
      ]
     },
     "metadata": {},
     "output_type": "display_data"
    }
   ],
   "source": [
    "dot_size = 0.5\n",
    "ax = sns.pointplot(x=dfCountry.Region, y=dfCountry[\"Happiness Score\"], scale = dot_size)\n",
    "ax.set(xlabel='Region', ylabel='Happiness Score')"
   ]
  },
  {
   "cell_type": "markdown",
   "metadata": {},
   "source": [
    "### *Оцените количество счастья по годам по регионам*"
   ]
  },
  {
   "cell_type": "code",
   "execution_count": 13,
   "metadata": {},
   "outputs": [
    {
     "data": {
      "text/plain": [
       "[Text(0,0.5,'Happiness Score'), Text(0.5,0,'Region')]"
      ]
     },
     "execution_count": 13,
     "metadata": {},
     "output_type": "execute_result"
    },
    {
     "data": {
      "image/png": "[encoded data removed]",
      "text/plain": [
       "<Figure size 432x288 with 1 Axes>"
      ]
     },
     "metadata": {},
     "output_type": "display_data"
    }
   ],
   "source": [
    "df2015[\"Year\"] = \"2015\"\n",
    "df2016[\"Year\"] = \"2016\"\n",
    "df2017[\"Year\"] = \"2017\"\n",
    "ax = sns.pointplot(x=\"Country\", y=\"Happiness Score\", scale = 0.1, data=df2015, color=\"#90EE90\", hue = \"Year\")\n",
    "ax = sns.pointplot(x=\"Country\", y=\"Happiness Score\", scale = 0.1, data=df2016, color=\"#E1523D\", hue = \"Year\")\n",
    "ax = sns.pointplot(x=\"Country\", y=\"Happiness Score\", scale = 0.1, data=df2017, color=\"#BA55D3\", hue = \"Year\")\n",
    "ax.set(xlabel='Region', ylabel='Happiness Score')"
   ]
  },
  {
   "cell_type": "markdown",
   "metadata": {},
   "source": [
    "### *Определите наиболее сильно изменяющиеся параметры по разным странам в разные годы*"
   ]
  },
  {
   "cell_type": "code",
   "execution_count": 14,
   "metadata": {
    "scrolled": true
   },
   "outputs": [
    {
     "data": {
      "text/html": [
       "<div>\n",
       "<style scoped>\n",
       "    .dataframe tbody tr th:only-of-type {\n",
       "        vertical-align: middle;\n",
       "    }\n",
       "\n",
       "    .dataframe tbody tr th {\n",
       "        vertical-align: top;\n",
       "    }\n",
       "\n",
       "    .dataframe thead th {\n",
       "        text-align: right;\n",
       "    }\n",
       "</style>\n",
       "<table border=\"1\" class=\"dataframe\">\n",
       "  <thead>\n",
       "    <tr style=\"text-align: right;\">\n",
       "      <th></th>\n",
       "      <th>Happiness Rank</th>\n",
       "      <th>Happiness Score</th>\n",
       "      <th>Standard Error</th>\n",
       "      <th>Economy (GDP per Capita)</th>\n",
       "      <th>Family</th>\n",
       "      <th>Health (Life Expectancy)</th>\n",
       "      <th>Freedom</th>\n",
       "      <th>Trust (Government Corruption)</th>\n",
       "      <th>Generosity</th>\n",
       "      <th>Dystopia Residual</th>\n",
       "    </tr>\n",
       "  </thead>\n",
       "  <tbody>\n",
       "    <tr>\n",
       "      <th>count</th>\n",
       "      <td>158.000000</td>\n",
       "      <td>158.000000</td>\n",
       "      <td>158.000000</td>\n",
       "      <td>158.000000</td>\n",
       "      <td>158.000000</td>\n",
       "      <td>158.000000</td>\n",
       "      <td>158.000000</td>\n",
       "      <td>158.000000</td>\n",
       "      <td>158.000000</td>\n",
       "      <td>158.000000</td>\n",
       "    </tr>\n",
       "    <tr>\n",
       "      <th>mean</th>\n",
       "      <td>79.493671</td>\n",
       "      <td>5.375734</td>\n",
       "      <td>0.047885</td>\n",
       "      <td>0.846137</td>\n",
       "      <td>0.991046</td>\n",
       "      <td>0.630259</td>\n",
       "      <td>0.428615</td>\n",
       "      <td>0.143422</td>\n",
       "      <td>0.237296</td>\n",
       "      <td>2.098977</td>\n",
       "    </tr>\n",
       "    <tr>\n",
       "      <th>std</th>\n",
       "      <td>45.754363</td>\n",
       "      <td>1.145010</td>\n",
       "      <td>0.017146</td>\n",
       "      <td>0.403121</td>\n",
       "      <td>0.272369</td>\n",
       "      <td>0.247078</td>\n",
       "      <td>0.150693</td>\n",
       "      <td>0.120034</td>\n",
       "      <td>0.126685</td>\n",
       "      <td>0.553550</td>\n",
       "    </tr>\n",
       "    <tr>\n",
       "      <th>min</th>\n",
       "      <td>1.000000</td>\n",
       "      <td>2.839000</td>\n",
       "      <td>0.018480</td>\n",
       "      <td>0.000000</td>\n",
       "      <td>0.000000</td>\n",
       "      <td>0.000000</td>\n",
       "      <td>0.000000</td>\n",
       "      <td>0.000000</td>\n",
       "      <td>0.000000</td>\n",
       "      <td>0.328580</td>\n",
       "    </tr>\n",
       "    <tr>\n",
       "      <th>25%</th>\n",
       "      <td>40.250000</td>\n",
       "      <td>4.526000</td>\n",
       "      <td>0.037268</td>\n",
       "      <td>0.545808</td>\n",
       "      <td>0.856823</td>\n",
       "      <td>0.439185</td>\n",
       "      <td>0.328330</td>\n",
       "      <td>0.061675</td>\n",
       "      <td>0.150553</td>\n",
       "      <td>1.759410</td>\n",
       "    </tr>\n",
       "    <tr>\n",
       "      <th>50%</th>\n",
       "      <td>79.500000</td>\n",
       "      <td>5.232500</td>\n",
       "      <td>0.043940</td>\n",
       "      <td>0.910245</td>\n",
       "      <td>1.029510</td>\n",
       "      <td>0.696705</td>\n",
       "      <td>0.435515</td>\n",
       "      <td>0.107220</td>\n",
       "      <td>0.216130</td>\n",
       "      <td>2.095415</td>\n",
       "    </tr>\n",
       "    <tr>\n",
       "      <th>75%</th>\n",
       "      <td>118.750000</td>\n",
       "      <td>6.243750</td>\n",
       "      <td>0.052300</td>\n",
       "      <td>1.158448</td>\n",
       "      <td>1.214405</td>\n",
       "      <td>0.811013</td>\n",
       "      <td>0.549092</td>\n",
       "      <td>0.180255</td>\n",
       "      <td>0.309883</td>\n",
       "      <td>2.462415</td>\n",
       "    </tr>\n",
       "    <tr>\n",
       "      <th>max</th>\n",
       "      <td>158.000000</td>\n",
       "      <td>7.587000</td>\n",
       "      <td>0.136930</td>\n",
       "      <td>1.690420</td>\n",
       "      <td>1.402230</td>\n",
       "      <td>1.025250</td>\n",
       "      <td>0.669730</td>\n",
       "      <td>0.551910</td>\n",
       "      <td>0.795880</td>\n",
       "      <td>3.602140</td>\n",
       "    </tr>\n",
       "  </tbody>\n",
       "</table>\n",
       "</div>"
      ],
      "text/plain": [
       "       Happiness Rank  Happiness Score  Standard Error  \\\n",
       "count      158.000000       158.000000      158.000000   \n",
       "mean        79.493671         5.375734        0.047885   \n",
       "std         45.754363         1.145010        0.017146   \n",
       "min          1.000000         2.839000        0.018480   \n",
       "25%         40.250000         4.526000        0.037268   \n",
       "50%         79.500000         5.232500        0.043940   \n",
       "75%        118.750000         6.243750        0.052300   \n",
       "max        158.000000         7.587000        0.136930   \n",
       "\n",
       "       Economy (GDP per Capita)      Family  Health (Life Expectancy)  \\\n",
       "count                158.000000  158.000000                158.000000   \n",
       "mean                   0.846137    0.991046                  0.630259   \n",
       "std                    0.403121    0.272369                  0.247078   \n",
       "min                    0.000000    0.000000                  0.000000   \n",
       "25%                    0.545808    0.856823                  0.439185   \n",
       "50%                    0.910245    1.029510                  0.696705   \n",
       "75%                    1.158448    1.214405                  0.811013   \n",
       "max                    1.690420    1.402230                  1.025250   \n",
       "\n",
       "          Freedom  Trust (Government Corruption)  Generosity  \\\n",
       "count  158.000000                     158.000000  158.000000   \n",
       "mean     0.428615                       0.143422    0.237296   \n",
       "std      0.150693                       0.120034    0.126685   \n",
       "min      0.000000                       0.000000    0.000000   \n",
       "25%      0.328330                       0.061675    0.150553   \n",
       "50%      0.435515                       0.107220    0.216130   \n",
       "75%      0.549092                       0.180255    0.309883   \n",
       "max      0.669730                       0.551910    0.795880   \n",
       "\n",
       "       Dystopia Residual  \n",
       "count         158.000000  \n",
       "mean            2.098977  \n",
       "std             0.553550  \n",
       "min             0.328580  \n",
       "25%             1.759410  \n",
       "50%             2.095415  \n",
       "75%             2.462415  \n",
       "max             3.602140  "
      ]
     },
     "execution_count": 14,
     "metadata": {},
     "output_type": "execute_result"
    }
   ],
   "source": [
    "df2015.describe()"
   ]
  },
  {
   "cell_type": "code",
   "execution_count": 15,
   "metadata": {},
   "outputs": [],
   "source": [
    "def shift(name, data2015, data2016, data2017):\n",
    "    \"\"\"Функция определяет изменение признака name по годам.\n",
    "    Возвращает список из 3 значений - изменения признака name за 2015, 2016, 2017\"\"\"\n",
    "    tmpMin2015 = data2015.describe().loc[[\"min\"], name].value_counts().index[0]  #  Минимальное значение по признаку за 2015 год\n",
    "    tmpMax2015 = data2015.describe().loc[[\"max\"], name].value_counts().index[0]  #  Максимальное значение по признаку за 2015 год\n",
    "    tmpShift2015 = tmpMax2015 - tmpMin2015  #  Изменение признака за 2015 год\n",
    "    print(f\"Изменение \\\"{name}\\\" за 2015 год: {tmpShift2015}\")\n",
    "    tmpMin2016 = data2016.describe().loc[[\"min\"], name].value_counts().index[0]  #  Минимальное значение по признаку за 2016 год\n",
    "    tmpMax2016 = data2016.describe().loc[[\"max\"], name].value_counts().index[0]  #  Максимальное значение по признаку за 2016 год\n",
    "    tmpShift2016 = tmpMax2016 - tmpMin2016  #  Изменение признака за 2016 год\n",
    "    print(f\"Изменение \\\"{name}\\\" за 2016 год: {tmpShift2016}\")\n",
    "    tmpMin2017 = data2017.describe().loc[[\"min\"], name].value_counts().index[0]  #  Минимальное значение по признаку за 2017 год\n",
    "    tmpMax2017 = data2017.describe().loc[[\"max\"], name].value_counts().index[0]  #  Максимальное значение по признаку за 2017 год\n",
    "    tmpShift2017 = tmpMax2017 - tmpMin2017  #  Изменение признака за 2017 год\n",
    "    print(f\"Изменение \\\"{name}\\\" за 2017 год: {tmpShift2017}\")\n",
    "    return [tmpShift2015, tmpShift2016, tmpShift2017]"
   ]
  },
  {
   "cell_type": "code",
   "execution_count": 16,
   "metadata": {},
   "outputs": [
    {
     "name": "stdout",
     "output_type": "stream",
     "text": [
      "Изменение \"Happiness Rank\" за 2015 год: 157.0\n",
      "Изменение \"Happiness Rank\" за 2016 год: 156.0\n",
      "Изменение \"Happiness Rank\" за 2017 год: 154.0\n"
     ]
    }
   ],
   "source": [
    "HappinessRankShift = shift(\"Happiness Rank\", df2015, df2016, df2017)"
   ]
  },
  {
   "cell_type": "code",
   "execution_count": 17,
   "metadata": {},
   "outputs": [
    {
     "data": {
      "image/png": "[encoded data removed]",
      "text/plain": [
       "<Figure size 432x288 with 1 Axes>"
      ]
     },
     "metadata": {},
     "output_type": "display_data"
    }
   ],
   "source": [
    "year = np.array([2015, 2016, 2017])\n",
    "fig, ax = plt.subplots()\n",
    "ax.plot(year, HappinessRankShift, color=\"#90EE90\", label=\"Happiness Rank\")\n",
    "ax.set_xlabel(\"Year\")\n",
    "ax.set_ylabel(\"Sign\")\n",
    "ax.legend()\n",
    "plt.show()"
   ]
  },
  {
   "cell_type": "code",
   "execution_count": 18,
   "metadata": {},
   "outputs": [
    {
     "name": "stdout",
     "output_type": "stream",
     "text": [
      "Изменение \"Happiness Score\" за 2015 год: 4.748000000000001\n",
      "Изменение \"Happiness Score\" за 2016 год: 4.621\n",
      "Изменение \"Happiness Score\" за 2017 год: 4.844000101089479\n"
     ]
    },
    {
     "data": {
      "image/png": "[encoded data removed]",
      "text/plain": [
       "<Figure size 432x288 with 1 Axes>"
      ]
     },
     "metadata": {},
     "output_type": "display_data"
    }
   ],
   "source": [
    "HappinessScoreShift = shift(\"Happiness Score\", df2015, df2016, df2017)\n",
    "fig, ax = plt.subplots()\n",
    "ax.plot(year, HappinessScoreShift, color=\"#90EE90\", label=\"Happiness Score\")\n",
    "ax.set_xlabel(\"Year\")\n",
    "ax.set_ylabel(\"Sign\")\n",
    "ax.legend()\n",
    "plt.show()"
   ]
  },
  {
   "cell_type": "code",
   "execution_count": 19,
   "metadata": {},
   "outputs": [
    {
     "name": "stdout",
     "output_type": "stream",
     "text": [
      "Изменение \"Family\" за 2015 год: 1.4022299999999999\n",
      "Изменение \"Family\" за 2016 год: 1.18326\n",
      "Изменение \"Family\" за 2017 год: 1.6105740070343\n"
     ]
    },
    {
     "data": {
      "image/png": "[encoded data removed]",
      "text/plain": [
       "<Figure size 432x288 with 1 Axes>"
      ]
     },
     "metadata": {},
     "output_type": "display_data"
    }
   ],
   "source": [
    "FamilyShift = shift(\"Family\", df2015, df2016, df2017)\n",
    "fig, ax = plt.subplots()\n",
    "ax.plot(year, FamilyShift, color=\"#90EE90\", label=\"Family\")\n",
    "ax.set_xlabel(\"Year\")\n",
    "ax.set_ylabel(\"Sign\")\n",
    "ax.legend()\n",
    "plt.show()"
   ]
  },
  {
   "cell_type": "code",
   "execution_count": 20,
   "metadata": {},
   "outputs": [
    {
     "name": "stdout",
     "output_type": "stream",
     "text": [
      "Изменение \"Economy (GDP per Capita)\" за 2015 год: 1.69042\n",
      "Изменение \"Economy (GDP per Capita)\" за 2016 год: 1.82427\n",
      "Изменение \"Economy (GDP per Capita)\" за 2017 год: 1.8707656860351598\n"
     ]
    },
    {
     "data": {
      "image/png": "[encoded data removed]",
      "text/plain": [
       "<Figure size 432x288 with 1 Axes>"
      ]
     },
     "metadata": {},
     "output_type": "display_data"
    }
   ],
   "source": [
    "EconomyShift = shift(\"Economy (GDP per Capita)\", df2015, df2016, df2017)\n",
    "fig, ax = plt.subplots()\n",
    "ax.plot(year, EconomyShift, color=\"#90EE90\", label=\"Economy (GDP per Capita)\")\n",
    "ax.set_xlabel(\"Year\")\n",
    "ax.set_ylabel(\"Sign\")\n",
    "ax.legend()\n",
    "plt.show()"
   ]
  },
  {
   "cell_type": "code",
   "execution_count": 21,
   "metadata": {},
   "outputs": [
    {
     "name": "stdout",
     "output_type": "stream",
     "text": [
      "Изменение \"Health (Life Expectancy)\" за 2015 год: 1.02525\n",
      "Изменение \"Health (Life Expectancy)\" за 2016 год: 0.9527700000000001\n",
      "Изменение \"Health (Life Expectancy)\" за 2017 год: 0.9494923949241642\n"
     ]
    },
    {
     "data": {
      "image/png": "[encoded data removed]",
      "text/plain": [
       "<Figure size 432x288 with 1 Axes>"
      ]
     },
     "metadata": {},
     "output_type": "display_data"
    }
   ],
   "source": [
    "HealthShift = shift(\"Health (Life Expectancy)\", df2015, df2016, df2017)\n",
    "fig, ax = plt.subplots()\n",
    "ax.plot(year, HealthShift, color=\"#90EE90\", label=\"Health (Life Expectancy)\")\n",
    "ax.set_xlabel(\"Year\")\n",
    "ax.set_ylabel(\"Sign\")\n",
    "ax.legend()\n",
    "plt.show()"
   ]
  },
  {
   "cell_type": "code",
   "execution_count": 22,
   "metadata": {},
   "outputs": [
    {
     "name": "stdout",
     "output_type": "stream",
     "text": [
      "Изменение \"Freedom\" за 2015 год: 0.66973\n",
      "Изменение \"Freedom\" за 2016 год: 0.60848\n",
      "Изменение \"Freedom\" за 2017 год: 0.6582486629486078\n"
     ]
    },
    {
     "data": {
      "image/png": "[encoded data removed]",
      "text/plain": [
       "<Figure size 432x288 with 1 Axes>"
      ]
     },
     "metadata": {},
     "output_type": "display_data"
    }
   ],
   "source": [
    "FreedomShift = shift(\"Freedom\", df2015, df2016, df2017)\n",
    "fig, ax = plt.subplots()\n",
    "ax.plot(year, FreedomShift, color=\"#90EE90\", label=\"Freedom\")\n",
    "ax.set_xlabel(\"Year\")\n",
    "ax.set_ylabel(\"Sign\")\n",
    "ax.legend()\n",
    "plt.show()"
   ]
  },
  {
   "cell_type": "code",
   "execution_count": 23,
   "metadata": {},
   "outputs": [
    {
     "name": "stdout",
     "output_type": "stream",
     "text": [
      "Изменение \"Generosity\" за 2015 год: 0.79588\n",
      "Изменение \"Generosity\" за 2016 год: 0.81971\n",
      "Изменение \"Generosity\" за 2017 год: 0.8380751609802249\n"
     ]
    },
    {
     "data": {
      "image/png": "[encoded data removed]",
      "text/plain": [
       "<Figure size 432x288 with 1 Axes>"
      ]
     },
     "metadata": {},
     "output_type": "display_data"
    }
   ],
   "source": [
    "GenerosityShift = shift(\"Generosity\", df2015, df2016, df2017)\n",
    "fig, ax = plt.subplots()\n",
    "ax.plot(year, GenerosityShift, color=\"#90EE90\", label=\"Generosity\")\n",
    "ax.set_xlabel(\"Year\")\n",
    "ax.set_ylabel(\"Sign\")\n",
    "ax.legend()\n",
    "plt.show()"
   ]
  },
  {
   "cell_type": "markdown",
   "metadata": {},
   "source": [
    "### Определите страны, появляющиеся и исчезающие в рейтинге стран"
   ]
  },
  {
   "cell_type": "code",
   "execution_count": 24,
   "metadata": {},
   "outputs": [
    {
     "data": {
      "text/plain": [
       "Country\n",
       "Belize                      2\n",
       "Central African Republic    2\n",
       "Comoros                     2\n",
       "Djibouti                    1\n",
       "Hong Kong                   2\n",
       "Hong Kong S.A.R., China     1\n",
       "Laos                        2\n",
       "Lesotho                     2\n",
       "Mozambique                  2\n",
       "Namibia                     2\n",
       "Oman                        1\n",
       "Puerto Rico                 1\n",
       "Somalia                     2\n",
       "Somaliland Region           1\n",
       "Somaliland region           1\n",
       "South Sudan                 2\n",
       "Suriname                    2\n",
       "Swaziland                   1\n",
       "Taiwan                      2\n",
       "Taiwan Province of China    1\n",
       "Name: Country, dtype: int64"
      ]
     },
     "execution_count": 24,
     "metadata": {},
     "output_type": "execute_result"
    }
   ],
   "source": [
    "dfCountry = dfAll.groupby(\"Country\").Country.count()\n",
    "dfCountry[dfCountry<3]  #  Страны, появляющиеся и исчезающие из рейтинга стран"
   ]
  },
  {
   "cell_type": "code",
   "execution_count": 25,
   "metadata": {},
   "outputs": [
    {
     "name": "stdout",
     "output_type": "stream",
     "text": [
      "158 157 155\n"
     ]
    }
   ],
   "source": [
    "#  Выделим страны из статистики от каждого года\n",
    "Countrys2015 = df2015.Country\n",
    "Countrys2016 = df2016.Country\n",
    "Countrys2017 = df2017.Country\n",
    "print(len(Countrys2015), len(Countrys2016), len(Countrys2017))"
   ]
  },
  {
   "cell_type": "code",
   "execution_count": 26,
   "metadata": {},
   "outputs": [],
   "source": [
    "def shiftCountry(data1, data2, data3):\n",
    "    \"\"\"Сравнивает наличие/отсутсвие стран за два года\"\"\"\n",
    "    for Country in data1:\n",
    "        if Country not in data2:\n",
    "            print(f\"Страна {Country} исчезла из статистики\")"
   ]
  },
  {
   "cell_type": "code",
   "execution_count": 27,
   "metadata": {},
   "outputs": [
    {
     "name": "stdout",
     "output_type": "stream",
     "text": [
      "Страна Switzerland исчезла из статистики\n",
      "Страна Iceland исчезла из статистики\n",
      "Страна Denmark исчезла из статистики\n",
      "Страна Norway исчезла из статистики\n",
      "Страна Canada исчезла из статистики\n",
      "Страна Finland исчезла из статистики\n",
      "Страна Netherlands исчезла из статистики\n",
      "Страна Sweden исчезла из статистики\n",
      "Страна New Zealand исчезла из статистики\n",
      "Страна Australia исчезла из статистики\n",
      "Страна Israel исчезла из статистики\n",
      "Страна Costa Rica исчезла из статистики\n",
      "Страна Austria исчезла из статистики\n",
      "Страна Mexico исчезла из статистики\n",
      "Страна United States исчезла из статистики\n",
      "Страна Brazil исчезла из статистики\n",
      "Страна Luxembourg исчезла из статистики\n",
      "Страна Ireland исчезла из статистики\n",
      "Страна Belgium исчезла из статистики\n",
      "Страна United Arab Emirates исчезла из статистики\n",
      "Страна United Kingdom исчезла из статистики\n",
      "Страна Oman исчезла из статистики\n",
      "Страна Venezuela исчезла из статистики\n",
      "Страна Singapore исчезла из статистики\n",
      "Страна Panama исчезла из статистики\n",
      "Страна Germany исчезла из статистики\n",
      "Страна Chile исчезла из статистики\n",
      "Страна Qatar исчезла из статистики\n",
      "Страна France исчезла из статистики\n",
      "Страна Argentina исчезла из статистики\n",
      "Страна Czech Republic исчезла из статистики\n",
      "Страна Uruguay исчезла из статистики\n",
      "Страна Colombia исчезла из статистики\n",
      "Страна Thailand исчезла из статистики\n",
      "Страна Saudi Arabia исчезла из статистики\n",
      "Страна Spain исчезла из статистики\n",
      "Страна Malta исчезла из статистики\n",
      "Страна Taiwan исчезла из статистики\n",
      "Страна Kuwait исчезла из статистики\n",
      "Страна Suriname исчезла из статистики\n",
      "Страна Trinidad and Tobago исчезла из статистики\n",
      "Страна El Salvador исчезла из статистики\n",
      "Страна Guatemala исчезла из статистики\n",
      "Страна Uzbekistan исчезла из статистики\n",
      "Страна Slovakia исчезла из статистики\n",
      "Страна Japan исчезла из статистики\n",
      "Страна South Korea исчезла из статистики\n",
      "Страна Ecuador исчезла из статистики\n",
      "Страна Bahrain исчезла из статистики\n",
      "Страна Italy исчезла из статистики\n",
      "Страна Bolivia исчезла из статистики\n",
      "Страна Moldova исчезла из статистики\n",
      "Страна Paraguay исчезла из статистики\n",
      "Страна Kazakhstan исчезла из статистики\n",
      "Страна Slovenia исчезла из статистики\n",
      "Страна Lithuania исчезла из статистики\n",
      "Страна Nicaragua исчезла из статистики\n",
      "Страна Peru исчезла из статистики\n",
      "Страна Belarus исчезла из статистики\n",
      "Страна Poland исчезла из статистики\n",
      "Страна Malaysia исчезла из статистики\n",
      "Страна Croatia исчезла из статистики\n",
      "Страна Libya исчезла из статистики\n",
      "Страна Russia исчезла из статистики\n",
      "Страна Jamaica исчезла из статистики\n",
      "Страна North Cyprus исчезла из статистики\n",
      "Страна Cyprus исчезла из статистики\n",
      "Страна Algeria исчезла из статистики\n",
      "Страна Kosovo исчезла из статистики\n",
      "Страна Turkmenistan исчезла из статистики\n",
      "Страна Mauritius исчезла из статистики\n",
      "Страна Hong Kong исчезла из статистики\n",
      "Страна Estonia исчезла из статистики\n",
      "Страна Indonesia исчезла из статистики\n",
      "Страна Vietnam исчезла из статистики\n",
      "Страна Turkey исчезла из статистики\n",
      "Страна Kyrgyzstan исчезла из статистики\n",
      "Страна Nigeria исчезла из статистики\n",
      "Страна Bhutan исчезла из статистики\n",
      "Страна Azerbaijan исчезла из статистики\n",
      "Страна Pakistan исчезла из статистики\n",
      "Страна Jordan исчезла из статистики\n",
      "Страна Montenegro исчезла из статистики\n",
      "Страна China исчезла из статистики\n",
      "Страна Zambia исчезла из статистики\n",
      "Страна Romania исчезла из статистики\n",
      "Страна Serbia исчезла из статистики\n",
      "Страна Portugal исчезла из статистики\n",
      "Страна Latvia исчезла из статистики\n",
      "Страна Philippines исчезла из статистики\n",
      "Страна Somaliland region исчезла из статистики\n",
      "Страна Morocco исчезла из статистики\n",
      "Страна Macedonia исчезла из статистики\n",
      "Страна Mozambique исчезла из статистики\n",
      "Страна Albania исчезла из статистики\n",
      "Страна Bosnia and Herzegovina исчезла из статистики\n",
      "Страна Lesotho исчезла из статистики\n",
      "Страна Dominican Republic исчезла из статистики\n",
      "Страна Laos исчезла из статистики\n",
      "Страна Mongolia исчезла из статистики\n",
      "Страна Swaziland исчезла из статистики\n",
      "Страна Greece исчезла из статистики\n",
      "Страна Lebanon исчезла из статистики\n",
      "Страна Hungary исчезла из статистики\n",
      "Страна Honduras исчезла из статистики\n",
      "Страна Tajikistan исчезла из статистики\n",
      "Страна Tunisia исчезла из статистики\n",
      "Страна Palestinian Territories исчезла из статистики\n",
      "Страна Bangladesh исчезла из статистики\n",
      "Страна Iran исчезла из статистики\n",
      "Страна Ukraine исчезла из статистики\n",
      "Страна Iraq исчезла из статистики\n",
      "Страна South Africa исчезла из статистики\n",
      "Страна Ghana исчезла из статистики\n",
      "Страна Zimbabwe исчезла из статистики\n",
      "Страна Liberia исчезла из статистики\n",
      "Страна India исчезла из статистики\n",
      "Страна Sudan исчезла из статистики\n",
      "Страна Haiti исчезла из статистики\n",
      "Страна Congo (Kinshasa) исчезла из статистики\n",
      "Страна Nepal исчезла из статистики\n",
      "Страна Ethiopia исчезла из статистики\n",
      "Страна Sierra Leone исчезла из статистики\n",
      "Страна Mauritania исчезла из статистики\n",
      "Страна Kenya исчезла из статистики\n",
      "Страна Djibouti исчезла из статистики\n",
      "Страна Armenia исчезла из статистики\n",
      "Страна Botswana исчезла из статистики\n",
      "Страна Myanmar исчезла из статистики\n",
      "Страна Georgia исчезла из статистики\n",
      "Страна Malawi исчезла из статистики\n",
      "Страна Sri Lanka исчезла из статистики\n",
      "Страна Cameroon исчезла из статистики\n",
      "Страна Bulgaria исчезла из статистики\n",
      "Страна Egypt исчезла из статистики\n",
      "Страна Yemen исчезла из статистики\n",
      "Страна Angola исчезла из статистики\n",
      "Страна Mali исчезла из статистики\n",
      "Страна Congo (Brazzaville) исчезла из статистики\n",
      "Страна Comoros исчезла из статистики\n",
      "Страна Uganda исчезла из статистики\n",
      "Страна Senegal исчезла из статистики\n",
      "Страна Gabon исчезла из статистики\n",
      "Страна Niger исчезла из статистики\n",
      "Страна Cambodia исчезла из статистики\n",
      "Страна Tanzania исчезла из статистики\n",
      "Страна Madagascar исчезла из статистики\n",
      "Страна Central African Republic исчезла из статистики\n",
      "Страна Chad исчезла из статистики\n",
      "Страна Guinea исчезла из статистики\n",
      "Страна Ivory Coast исчезла из статистики\n",
      "Страна Burkina Faso исчезла из статистики\n",
      "Страна Afghanistan исчезла из статистики\n",
      "Страна Rwanda исчезла из статистики\n",
      "Страна Benin исчезла из статистики\n",
      "Страна Syria исчезла из статистики\n",
      "Страна Burundi исчезла из статистики\n",
      "Страна Togo исчезла из статистики\n"
     ]
    }
   ],
   "source": [
    "shiftCountry(Countrys2015, Countrys2016, Countrys2017)"
   ]
  },
  {
   "cell_type": "markdown",
   "metadata": {},
   "source": [
    "### Удалите строки с пропущенными значениями. Выведите размер набора данных до и после удаления"
   ]
  },
  {
   "cell_type": "code",
   "execution_count": 28,
   "metadata": {},
   "outputs": [
    {
     "data": {
      "text/plain": [
       "(470, 16)"
      ]
     },
     "execution_count": 28,
     "metadata": {},
     "output_type": "execute_result"
    }
   ],
   "source": [
    "dfAll.shape  #  Размер набора данных до удаления пропущенных значений"
   ]
  },
  {
   "cell_type": "code",
   "execution_count": 29,
   "metadata": {},
   "outputs": [
    {
     "data": {
      "text/plain": [
       "(453, 16)"
      ]
     },
     "execution_count": 29,
     "metadata": {},
     "output_type": "execute_result"
    }
   ],
   "source": [
    "df=dfAll[~(dfAll==0).any(axis=1)]  #  Удаление нулевых значений\n",
    "df.shape"
   ]
  },
  {
   "cell_type": "markdown",
   "metadata": {},
   "source": [
    "### Вычислите корреляцию Пирсона и Спирмена между признаками Trust.Government.Corruption и Family . Сравните полученные величины корреляции. Постройте гистограммы для указаных признаков. Оцените значение p-value"
   ]
  },
  {
   "cell_type": "code",
   "execution_count": 30,
   "metadata": {},
   "outputs": [
    {
     "data": {
      "text/plain": [
       "(0.16219813235614539, 0.0005289920325555535)"
      ]
     },
     "execution_count": 30,
     "metadata": {},
     "output_type": "execute_result"
    }
   ],
   "source": [
    "pearsonr(df[\"Trust (Government Corruption)\"],df[\"Family\"]) #кореляция Пирсона"
   ]
  },
  {
   "cell_type": "code",
   "execution_count": 31,
   "metadata": {},
   "outputs": [
    {
     "data": {
      "text/plain": [
       "SpearmanrResult(correlation=0.1007583131777208, pvalue=0.03202861490820036)"
      ]
     },
     "execution_count": 31,
     "metadata": {},
     "output_type": "execute_result"
    }
   ],
   "source": [
    "spearmanr(df[\"Trust (Government Corruption)\"],df[\"Family\"]) #кореляция Спирмена"
   ]
  },
  {
   "cell_type": "code",
   "execution_count": 32,
   "metadata": {},
   "outputs": [
    {
     "data": {
      "text/plain": [
       "<matplotlib.axes._subplots.AxesSubplot at 0xb1e059e10>"
      ]
     },
     "execution_count": 32,
     "metadata": {},
     "output_type": "execute_result"
    },
    {
     "data": {
      "image/png": "[encoded data removed]",
      "text/plain": [
       "<Figure size 432x288 with 1 Axes>"
      ]
     },
     "metadata": {},
     "output_type": "display_data"
    }
   ],
   "source": [
    "s = pd.Series(df[\"Trust (Government Corruption)\"])\n",
    "s.plot.hist()"
   ]
  },
  {
   "cell_type": "code",
   "execution_count": 33,
   "metadata": {},
   "outputs": [
    {
     "data": {
      "text/plain": [
       "<matplotlib.axes._subplots.AxesSubplot at 0xb1e59cb38>"
      ]
     },
     "execution_count": 33,
     "metadata": {},
     "output_type": "execute_result"
    },
    {
     "data": {
      "image/png": "[encoded data removed]",
      "text/plain": [
       "<Figure size 432x288 with 1 Axes>"
      ]
     },
     "metadata": {},
     "output_type": "display_data"
    }
   ],
   "source": [
    "s = pd.Series(df[\"Family\"])\n",
    "s.plot.hist()"
   ]
  },
  {
   "cell_type": "markdown",
   "metadata": {},
   "source": [
    "### Добавьте в набор данных признак, являющийся суммой двух других признаков"
   ]
  },
  {
   "cell_type": "code",
   "execution_count": 34,
   "metadata": {},
   "outputs": [
    {
     "name": "stderr",
     "output_type": "stream",
     "text": [
      "/Users/walleri1/anaconda3/lib/python3.6/site-packages/ipykernel_launcher.py:1: SettingWithCopyWarning: \n",
      "A value is trying to be set on a copy of a slice from a DataFrame.\n",
      "Try using .loc[row_indexer,col_indexer] = value instead\n",
      "\n",
      "See the caveats in the documentation: http://pandas.pydata.org/pandas-docs/stable/indexing.html#indexing-view-versus-copy\n",
      "  \"\"\"Entry point for launching an IPython kernel.\n"
     ]
    }
   ],
   "source": [
    "df[\"Sum\"]=df[\"Happiness Score\"] + df[\"Generosity\"]"
   ]
  },
  {
   "cell_type": "code",
   "execution_count": 35,
   "metadata": {},
   "outputs": [
    {
     "data": {
      "text/html": [
       "<div>\n",
       "<style scoped>\n",
       "    .dataframe tbody tr th:only-of-type {\n",
       "        vertical-align: middle;\n",
       "    }\n",
       "\n",
       "    .dataframe tbody tr th {\n",
       "        vertical-align: top;\n",
       "    }\n",
       "\n",
       "    .dataframe thead th {\n",
       "        text-align: right;\n",
       "    }\n",
       "</style>\n",
       "<table border=\"1\" class=\"dataframe\">\n",
       "  <thead>\n",
       "    <tr style=\"text-align: right;\">\n",
       "      <th></th>\n",
       "      <th>Country</th>\n",
       "      <th>Dystopia Residual</th>\n",
       "      <th>Economy (GDP per Capita)</th>\n",
       "      <th>Family</th>\n",
       "      <th>Freedom</th>\n",
       "      <th>Generosity</th>\n",
       "      <th>Happiness Rank</th>\n",
       "      <th>Happiness Score</th>\n",
       "      <th>Health (Life Expectancy)</th>\n",
       "      <th>Lower Confidence Interval</th>\n",
       "      <th>Region</th>\n",
       "      <th>Standard Error</th>\n",
       "      <th>Trust (Government Corruption)</th>\n",
       "      <th>Upper Confidence Interval</th>\n",
       "      <th>Whisker high</th>\n",
       "      <th>Whisker low</th>\n",
       "      <th>Sum</th>\n",
       "    </tr>\n",
       "  </thead>\n",
       "  <tbody>\n",
       "    <tr>\n",
       "      <th>0</th>\n",
       "      <td>Switzerland</td>\n",
       "      <td>2.51738</td>\n",
       "      <td>1.39651</td>\n",
       "      <td>1.34951</td>\n",
       "      <td>0.66557</td>\n",
       "      <td>0.29678</td>\n",
       "      <td>1</td>\n",
       "      <td>7.587</td>\n",
       "      <td>0.94143</td>\n",
       "      <td>NaN</td>\n",
       "      <td>Western Europe</td>\n",
       "      <td>0.03411</td>\n",
       "      <td>0.41978</td>\n",
       "      <td>NaN</td>\n",
       "      <td>NaN</td>\n",
       "      <td>NaN</td>\n",
       "      <td>7.88378</td>\n",
       "    </tr>\n",
       "    <tr>\n",
       "      <th>1</th>\n",
       "      <td>Iceland</td>\n",
       "      <td>2.70201</td>\n",
       "      <td>1.30232</td>\n",
       "      <td>1.40223</td>\n",
       "      <td>0.62877</td>\n",
       "      <td>0.43630</td>\n",
       "      <td>2</td>\n",
       "      <td>7.561</td>\n",
       "      <td>0.94784</td>\n",
       "      <td>NaN</td>\n",
       "      <td>Western Europe</td>\n",
       "      <td>0.04884</td>\n",
       "      <td>0.14145</td>\n",
       "      <td>NaN</td>\n",
       "      <td>NaN</td>\n",
       "      <td>NaN</td>\n",
       "      <td>7.99730</td>\n",
       "    </tr>\n",
       "    <tr>\n",
       "      <th>2</th>\n",
       "      <td>Denmark</td>\n",
       "      <td>2.49204</td>\n",
       "      <td>1.32548</td>\n",
       "      <td>1.36058</td>\n",
       "      <td>0.64938</td>\n",
       "      <td>0.34139</td>\n",
       "      <td>3</td>\n",
       "      <td>7.527</td>\n",
       "      <td>0.87464</td>\n",
       "      <td>NaN</td>\n",
       "      <td>Western Europe</td>\n",
       "      <td>0.03328</td>\n",
       "      <td>0.48357</td>\n",
       "      <td>NaN</td>\n",
       "      <td>NaN</td>\n",
       "      <td>NaN</td>\n",
       "      <td>7.86839</td>\n",
       "    </tr>\n",
       "    <tr>\n",
       "      <th>3</th>\n",
       "      <td>Norway</td>\n",
       "      <td>2.46531</td>\n",
       "      <td>1.45900</td>\n",
       "      <td>1.33095</td>\n",
       "      <td>0.66973</td>\n",
       "      <td>0.34699</td>\n",
       "      <td>4</td>\n",
       "      <td>7.522</td>\n",
       "      <td>0.88521</td>\n",
       "      <td>NaN</td>\n",
       "      <td>Western Europe</td>\n",
       "      <td>0.03880</td>\n",
       "      <td>0.36503</td>\n",
       "      <td>NaN</td>\n",
       "      <td>NaN</td>\n",
       "      <td>NaN</td>\n",
       "      <td>7.86899</td>\n",
       "    </tr>\n",
       "    <tr>\n",
       "      <th>4</th>\n",
       "      <td>Canada</td>\n",
       "      <td>2.45176</td>\n",
       "      <td>1.32629</td>\n",
       "      <td>1.32261</td>\n",
       "      <td>0.63297</td>\n",
       "      <td>0.45811</td>\n",
       "      <td>5</td>\n",
       "      <td>7.427</td>\n",
       "      <td>0.90563</td>\n",
       "      <td>NaN</td>\n",
       "      <td>North America</td>\n",
       "      <td>0.03553</td>\n",
       "      <td>0.32957</td>\n",
       "      <td>NaN</td>\n",
       "      <td>NaN</td>\n",
       "      <td>NaN</td>\n",
       "      <td>7.88511</td>\n",
       "    </tr>\n",
       "  </tbody>\n",
       "</table>\n",
       "</div>"
      ],
      "text/plain": [
       "       Country  Dystopia Residual  Economy (GDP per Capita)   Family  Freedom  \\\n",
       "0  Switzerland            2.51738                   1.39651  1.34951  0.66557   \n",
       "1      Iceland            2.70201                   1.30232  1.40223  0.62877   \n",
       "2      Denmark            2.49204                   1.32548  1.36058  0.64938   \n",
       "3       Norway            2.46531                   1.45900  1.33095  0.66973   \n",
       "4       Canada            2.45176                   1.32629  1.32261  0.63297   \n",
       "\n",
       "   Generosity  Happiness Rank  Happiness Score  Health (Life Expectancy)  \\\n",
       "0     0.29678               1            7.587                   0.94143   \n",
       "1     0.43630               2            7.561                   0.94784   \n",
       "2     0.34139               3            7.527                   0.87464   \n",
       "3     0.34699               4            7.522                   0.88521   \n",
       "4     0.45811               5            7.427                   0.90563   \n",
       "\n",
       "   Lower Confidence Interval          Region  Standard Error  \\\n",
       "0                        NaN  Western Europe         0.03411   \n",
       "1                        NaN  Western Europe         0.04884   \n",
       "2                        NaN  Western Europe         0.03328   \n",
       "3                        NaN  Western Europe         0.03880   \n",
       "4                        NaN   North America         0.03553   \n",
       "\n",
       "   Trust (Government Corruption)  Upper Confidence Interval  Whisker high  \\\n",
       "0                        0.41978                        NaN           NaN   \n",
       "1                        0.14145                        NaN           NaN   \n",
       "2                        0.48357                        NaN           NaN   \n",
       "3                        0.36503                        NaN           NaN   \n",
       "4                        0.32957                        NaN           NaN   \n",
       "\n",
       "   Whisker low      Sum  \n",
       "0          NaN  7.88378  \n",
       "1          NaN  7.99730  \n",
       "2          NaN  7.86839  \n",
       "3          NaN  7.86899  \n",
       "4          NaN  7.88511  "
      ]
     },
     "execution_count": 35,
     "metadata": {},
     "output_type": "execute_result"
    }
   ],
   "source": [
    "df.head()"
   ]
  },
  {
   "cell_type": "code",
   "execution_count": null,
   "metadata": {},
   "outputs": [],
   "source": []
  }
 ],
 "metadata": {
  "kernelspec": {
   "display_name": "Python 3",
   "language": "python",
   "name": "python3"
  },
  "language_info": {
   "codemirror_mode": {
    "name": "ipython",
    "version": 3
   },
   "file_extension": ".py",
   "mimetype": "text/x-python",
   "name": "python",
   "nbconvert_exporter": "python",
   "pygments_lexer": "ipython3",
   "version": "3.6.5"
  }
 },
 "nbformat": 4,
 "nbformat_minor": 2
}
